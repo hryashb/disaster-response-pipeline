{
 "cells": [
  {
   "cell_type": "markdown",
   "metadata": {},
   "source": [
    "# ML Pipeline Preparation\n",
    "Follow the instructions below to help you create your ML pipeline.\n",
    "### 1. Import libraries and load data from database.\n",
    "- Import Python libraries\n",
    "- Load dataset from database with [`read_sql_table`](https://pandas.pydata.org/pandas-docs/stable/generated/pandas.read_sql_table.html)\n",
    "- Define feature and target variables X and Y"
   ]
  },
  {
   "cell_type": "code",
   "execution_count": 22,
   "metadata": {},
   "outputs": [
    {
     "name": "stderr",
     "output_type": "stream",
     "text": [
      "[nltk_data] Downloading package punkt to\n",
      "[nltk_data]     /Users/harryashby/nltk_data...\n",
      "[nltk_data]   Package punkt is already up-to-date!\n",
      "[nltk_data] Downloading package wordnet to\n",
      "[nltk_data]     /Users/harryashby/nltk_data...\n",
      "[nltk_data]   Package wordnet is already up-to-date!\n",
      "[nltk_data] Downloading package stopwords to\n",
      "[nltk_data]     /Users/harryashby/nltk_data...\n",
      "[nltk_data]   Package stopwords is already up-to-date!\n"
     ]
    }
   ],
   "source": [
    "# import libraries\n",
    "import pandas as pd \n",
    "from sqlalchemy import create_engine\n",
    "import re\n",
    "import nltk\n",
    "from nltk.stem import WordNetLemmatizer\n",
    "\n",
    "nltk.download('punkt')\n",
    "nltk.download('wordnet')\n",
    "\n",
    "from nltk.corpus import stopwords\n",
    "nltk.download('stopwords')\n",
    "\n",
    "from sklearn.pipeline import Pipeline\n",
    "from sklearn.metrics import confusion_matrix\n",
    "from sklearn.model_selection import train_test_split\n",
    "from sklearn.ensemble import AdaBoostClassifier, GradientBoostingClassifier\n",
    "from sklearn.feature_extraction.text import CountVectorizer, TfidfTransformer\n",
    "\n",
    "from sklearn.multioutput import MultiOutputClassifier\n",
    "\n",
    "from sklearn.metrics import classification_report"
   ]
  },
  {
   "cell_type": "code",
   "execution_count": 45,
   "metadata": {},
   "outputs": [],
   "source": [
    "# load data from database\n",
    "engine = create_engine('sqlite:///dbtest.db')\n",
    "df = pd.read_sql('disaster_messages', engine)\n",
    "df\n",
    "X = df.message\n",
    "Y = df.drop(columns = ['message', 'original', 'genre','id'])"
   ]
  },
  {
   "cell_type": "markdown",
   "metadata": {},
   "source": [
    "### 2. Write a tokenization function to process your text data"
   ]
  },
  {
   "cell_type": "code",
   "execution_count": 62,
   "metadata": {},
   "outputs": [],
   "source": [
    "stopwords_eng = stopwords.words(\"english\")\n",
    "lemmatizer = WordNetLemmatizer()\n",
    "\n",
    "\n",
    "def tokenize(text):\n",
    "     # Replace all urls with a urlplaceholder string\n",
    "    url_regex = r'http[s]?://(?:[a-zA-Z]|[0-9]|[$-_@.&+]|[!*\\(\\),]|(?:%[0-9a-fA-F][0-9a-fA-F]))+'\n",
    "    \n",
    "    # Extract all the urls from the provided text \n",
    "    detected_urls = re.findall(url_regex, text)\n",
    "    # Replace url with a url placeholder string\n",
    "    for detected_url in detected_urls:\n",
    "        text = text.replace(detected_url, 'urlplaceholder')\n",
    "    # replace everything that's not a space or a a\n",
    "    text = re.sub(r\"[^\\w\\s]\",\" \", text)\n",
    "    \n",
    "    tokens = nltk.word_tokenize(text)\n",
    "    tokens = [w.lower().strip() for w in tokens if w not in stopwords_eng]\n",
    "\n",
    "    clean_tokens = []\n",
    "    for tok in tokens:\n",
    "        clean_tok = lemmatizer.lemmatize(tok).lower().strip()\n",
    "        clean_tokens.append(clean_tok)\n",
    "\n",
    "    return clean_tokens\n"
   ]
  },
  {
   "cell_type": "markdown",
   "metadata": {},
   "source": [
    "### 3. Build a machine learning pipeline\n",
    "This machine pipeline should take in the `message` column as input and output classification results on the other 36 categories in the dataset. You may find the [MultiOutputClassifier](http://scikit-learn.org/stable/modules/generated/sklearn.multioutput.MultiOutputClassifier.html) helpful for predicting multiple target variables."
   ]
  },
  {
   "cell_type": "code",
   "execution_count": null,
   "metadata": {},
   "outputs": [],
   "source": []
  },
  {
   "cell_type": "code",
   "execution_count": 47,
   "metadata": {},
   "outputs": [
    {
     "name": "stderr",
     "output_type": "stream",
     "text": [
      "/Users/harryashby/anaconda3/envs/u-ds-2/lib/python3.12/site-packages/sklearn/feature_extraction/text.py:521: UserWarning: The parameter 'token_pattern' will not be used since 'tokenizer' is not None'\n",
      "  warnings.warn(\n"
     ]
    },
    {
     "name": "stdout",
     "output_type": "stream",
     "text": [
      "[Pipeline] .............. (step 1 of 3) Processing vect, total=  30.8s\n",
      "[Pipeline] ............. (step 2 of 3) Processing tfidf, total=   0.0s\n",
      "[Pipeline] ............... (step 3 of 3) Processing moc, total= 6.3min\n"
     ]
    }
   ],
   "source": [
    "Y = Y.loc[:,~(Y.sum() == 0).to_numpy()]\n",
    "X_train, X_test, y_train, y_test = train_test_split(X, Y)\n",
    "\n",
    "pipeline  = Pipeline(steps=[\n",
    "        ('vect', CountVectorizer(tokenizer=tokenize)),\n",
    "        ('tfidf', TfidfTransformer()),\n",
    "        ('moc', MultiOutputClassifier(GradientBoostingClassifier()))\n",
    "    ], verbose=True)\n",
    "# train classifier\n",
    "pipeline.fit(X_train, y_train)\n",
    "\n",
    "# # predict on test data\n",
    "y_pred = pipeline.predict(X_test)\n",
    "\n",
    "# # display results\n",
    "\n"
   ]
  },
  {
   "cell_type": "code",
   "execution_count": 64,
   "metadata": {},
   "outputs": [
    {
     "name": "stdout",
     "output_type": "stream",
     "text": [
      "Fitting 3 folds for each of 32 candidates, totalling 96 fits\n"
     ]
    },
    {
     "name": "stderr",
     "output_type": "stream",
     "text": [
      "/Users/harryashby/anaconda3/envs/u-ds-2/lib/python3.12/site-packages/sklearn/feature_extraction/text.py:521: UserWarning: The parameter 'token_pattern' will not be used since 'tokenizer' is not None'\n",
      "  warnings.warn(\n",
      "/Users/harryashby/anaconda3/envs/u-ds-2/lib/python3.12/site-packages/sklearn/feature_extraction/text.py:521: UserWarning: The parameter 'token_pattern' will not be used since 'tokenizer' is not None'\n",
      "  warnings.warn(\n",
      "/Users/harryashby/anaconda3/envs/u-ds-2/lib/python3.12/site-packages/sklearn/feature_extraction/text.py:521: UserWarning: The parameter 'token_pattern' will not be used since 'tokenizer' is not None'\n",
      "  warnings.warn(\n",
      "/Users/harryashby/anaconda3/envs/u-ds-2/lib/python3.12/site-packages/sklearn/feature_extraction/text.py:521: UserWarning: The parameter 'token_pattern' will not be used since 'tokenizer' is not None'\n",
      "  warnings.warn(\n",
      "/Users/harryashby/anaconda3/envs/u-ds-2/lib/python3.12/site-packages/sklearn/feature_extraction/text.py:521: UserWarning: The parameter 'token_pattern' will not be used since 'tokenizer' is not None'\n",
      "  warnings.warn(\n",
      "/Users/harryashby/anaconda3/envs/u-ds-2/lib/python3.12/site-packages/sklearn/feature_extraction/text.py:521: UserWarning: The parameter 'token_pattern' will not be used since 'tokenizer' is not None'\n",
      "  warnings.warn(\n",
      "/Users/harryashby/anaconda3/envs/u-ds-2/lib/python3.12/site-packages/sklearn/feature_extraction/text.py:521: UserWarning: The parameter 'token_pattern' will not be used since 'tokenizer' is not None'\n",
      "  warnings.warn(\n",
      "/Users/harryashby/anaconda3/envs/u-ds-2/lib/python3.12/site-packages/sklearn/feature_extraction/text.py:521: UserWarning: The parameter 'token_pattern' will not be used since 'tokenizer' is not None'\n",
      "  warnings.warn(\n"
     ]
    },
    {
     "name": "stdout",
     "output_type": "stream",
     "text": [
      "[CV 1/3] END moc__estimator__learning_rate=0.1, moc__estimator__max_depth=3, moc__estimator__n_estimators=50, vect__max_df=0.9, vect__ngram_range=(1, 1);, score=0.235 total time= 4.0min\n",
      "[CV 3/3] END moc__estimator__learning_rate=0.1, moc__estimator__max_depth=3, moc__estimator__n_estimators=50, vect__max_df=0.75, vect__ngram_range=(1, 1);, score=0.228 total time= 4.0min\n",
      "[CV 1/3] END moc__estimator__learning_rate=0.1, moc__estimator__max_depth=3, moc__estimator__n_estimators=50, vect__max_df=0.75, vect__ngram_range=(1, 1);, score=0.236 total time= 4.0min\n"
     ]
    },
    {
     "name": "stderr",
     "output_type": "stream",
     "text": [
      "/Users/harryashby/anaconda3/envs/u-ds-2/lib/python3.12/site-packages/sklearn/feature_extraction/text.py:521: UserWarning: The parameter 'token_pattern' will not be used since 'tokenizer' is not None'\n",
      "  warnings.warn(\n",
      "/Users/harryashby/anaconda3/envs/u-ds-2/lib/python3.12/site-packages/sklearn/feature_extraction/text.py:521: UserWarning: The parameter 'token_pattern' will not be used since 'tokenizer' is not None'\n",
      "  warnings.warn(\n",
      "/Users/harryashby/anaconda3/envs/u-ds-2/lib/python3.12/site-packages/sklearn/feature_extraction/text.py:521: UserWarning: The parameter 'token_pattern' will not be used since 'tokenizer' is not None'\n",
      "  warnings.warn(\n"
     ]
    },
    {
     "name": "stdout",
     "output_type": "stream",
     "text": [
      "[CV 2/3] END moc__estimator__learning_rate=0.1, moc__estimator__max_depth=3, moc__estimator__n_estimators=50, vect__max_df=0.75, vect__ngram_range=(1, 1);, score=0.221 total time= 4.1min\n"
     ]
    },
    {
     "name": "stderr",
     "output_type": "stream",
     "text": [
      "/Users/harryashby/anaconda3/envs/u-ds-2/lib/python3.12/site-packages/sklearn/feature_extraction/text.py:521: UserWarning: The parameter 'token_pattern' will not be used since 'tokenizer' is not None'\n",
      "  warnings.warn(\n"
     ]
    },
    {
     "name": "stdout",
     "output_type": "stream",
     "text": [
      "[CV 2/3] END moc__estimator__learning_rate=0.1, moc__estimator__max_depth=3, moc__estimator__n_estimators=50, vect__max_df=0.9, vect__ngram_range=(1, 1);, score=0.221 total time= 4.1min\n"
     ]
    },
    {
     "name": "stderr",
     "output_type": "stream",
     "text": [
      "/Users/harryashby/anaconda3/envs/u-ds-2/lib/python3.12/site-packages/sklearn/feature_extraction/text.py:521: UserWarning: The parameter 'token_pattern' will not be used since 'tokenizer' is not None'\n",
      "  warnings.warn(\n"
     ]
    },
    {
     "name": "stdout",
     "output_type": "stream",
     "text": [
      "[CV 3/3] END moc__estimator__learning_rate=0.1, moc__estimator__max_depth=3, moc__estimator__n_estimators=50, vect__max_df=0.9, vect__ngram_range=(1, 1);, score=0.226 total time=13.3min\n"
     ]
    },
    {
     "name": "stderr",
     "output_type": "stream",
     "text": [
      "/Users/harryashby/anaconda3/envs/u-ds-2/lib/python3.12/site-packages/sklearn/feature_extraction/text.py:521: UserWarning: The parameter 'token_pattern' will not be used since 'tokenizer' is not None'\n",
      "  warnings.warn(\n"
     ]
    },
    {
     "name": "stdout",
     "output_type": "stream",
     "text": [
      "[CV 1/3] END moc__estimator__learning_rate=0.1, moc__estimator__max_depth=3, moc__estimator__n_estimators=100, vect__max_df=0.75, vect__ngram_range=(1, 1);, score=0.241 total time=57.8min\n"
     ]
    },
    {
     "name": "stderr",
     "output_type": "stream",
     "text": [
      "/Users/harryashby/anaconda3/envs/u-ds-2/lib/python3.12/site-packages/sklearn/feature_extraction/text.py:521: UserWarning: The parameter 'token_pattern' will not be used since 'tokenizer' is not None'\n",
      "  warnings.warn(\n"
     ]
    },
    {
     "name": "stdout",
     "output_type": "stream",
     "text": [
      "[CV 3/3] END moc__estimator__learning_rate=0.1, moc__estimator__max_depth=3, moc__estimator__n_estimators=50, vect__max_df=0.75, vect__ngram_range=(1, 2);, score=0.228 total time=61.9min\n"
     ]
    },
    {
     "name": "stderr",
     "output_type": "stream",
     "text": [
      "/Users/harryashby/anaconda3/envs/u-ds-2/lib/python3.12/site-packages/sklearn/feature_extraction/text.py:521: UserWarning: The parameter 'token_pattern' will not be used since 'tokenizer' is not None'\n",
      "  warnings.warn(\n"
     ]
    },
    {
     "name": "stdout",
     "output_type": "stream",
     "text": [
      "[CV 1/3] END moc__estimator__learning_rate=0.1, moc__estimator__max_depth=3, moc__estimator__n_estimators=50, vect__max_df=0.75, vect__ngram_range=(1, 2);, score=0.235 total time=61.9min\n"
     ]
    },
    {
     "name": "stderr",
     "output_type": "stream",
     "text": [
      "/Users/harryashby/anaconda3/envs/u-ds-2/lib/python3.12/site-packages/sklearn/feature_extraction/text.py:521: UserWarning: The parameter 'token_pattern' will not be used since 'tokenizer' is not None'\n",
      "  warnings.warn(\n"
     ]
    },
    {
     "name": "stdout",
     "output_type": "stream",
     "text": [
      "[CV 2/3] END moc__estimator__learning_rate=0.1, moc__estimator__max_depth=3, moc__estimator__n_estimators=50, vect__max_df=0.75, vect__ngram_range=(1, 2);, score=0.232 total time=62.0min\n"
     ]
    },
    {
     "name": "stderr",
     "output_type": "stream",
     "text": [
      "/Users/harryashby/anaconda3/envs/u-ds-2/lib/python3.12/site-packages/sklearn/feature_extraction/text.py:521: UserWarning: The parameter 'token_pattern' will not be used since 'tokenizer' is not None'\n",
      "  warnings.warn(\n"
     ]
    },
    {
     "name": "stdout",
     "output_type": "stream",
     "text": [
      "[CV 2/3] END moc__estimator__learning_rate=0.1, moc__estimator__max_depth=3, moc__estimator__n_estimators=100, vect__max_df=0.75, vect__ngram_range=(1, 1);, score=0.228 total time=46.7min\n"
     ]
    },
    {
     "name": "stderr",
     "output_type": "stream",
     "text": [
      "/Users/harryashby/anaconda3/envs/u-ds-2/lib/python3.12/site-packages/sklearn/feature_extraction/text.py:521: UserWarning: The parameter 'token_pattern' will not be used since 'tokenizer' is not None'\n",
      "  warnings.warn(\n"
     ]
    },
    {
     "name": "stdout",
     "output_type": "stream",
     "text": [
      "[CV 1/3] END moc__estimator__learning_rate=0.1, moc__estimator__max_depth=3, moc__estimator__n_estimators=50, vect__max_df=0.9, vect__ngram_range=(1, 2);, score=0.236 total time=60.1min\n"
     ]
    },
    {
     "name": "stderr",
     "output_type": "stream",
     "text": [
      "/Users/harryashby/anaconda3/envs/u-ds-2/lib/python3.12/site-packages/sklearn/feature_extraction/text.py:521: UserWarning: The parameter 'token_pattern' will not be used since 'tokenizer' is not None'\n",
      "  warnings.warn(\n"
     ]
    },
    {
     "name": "stdout",
     "output_type": "stream",
     "text": [
      "[CV 3/3] END moc__estimator__learning_rate=0.1, moc__estimator__max_depth=3, moc__estimator__n_estimators=50, vect__max_df=0.9, vect__ngram_range=(1, 2);, score=0.235 total time=60.2min\n"
     ]
    },
    {
     "name": "stderr",
     "output_type": "stream",
     "text": [
      "/Users/harryashby/anaconda3/envs/u-ds-2/lib/python3.12/site-packages/sklearn/feature_extraction/text.py:521: UserWarning: The parameter 'token_pattern' will not be used since 'tokenizer' is not None'\n",
      "  warnings.warn(\n"
     ]
    },
    {
     "name": "stdout",
     "output_type": "stream",
     "text": [
      "[CV 2/3] END moc__estimator__learning_rate=0.1, moc__estimator__max_depth=3, moc__estimator__n_estimators=50, vect__max_df=0.9, vect__ngram_range=(1, 2);, score=0.230 total time=60.3min\n"
     ]
    },
    {
     "name": "stderr",
     "output_type": "stream",
     "text": [
      "/Users/harryashby/anaconda3/envs/u-ds-2/lib/python3.12/site-packages/sklearn/feature_extraction/text.py:521: UserWarning: The parameter 'token_pattern' will not be used since 'tokenizer' is not None'\n",
      "  warnings.warn(\n"
     ]
    },
    {
     "name": "stdout",
     "output_type": "stream",
     "text": [
      "[CV 3/3] END moc__estimator__learning_rate=0.1, moc__estimator__max_depth=3, moc__estimator__n_estimators=100, vect__max_df=0.75, vect__ngram_range=(1, 1);, score=0.235 total time= 4.6min\n"
     ]
    },
    {
     "name": "stderr",
     "output_type": "stream",
     "text": [
      "/Users/harryashby/anaconda3/envs/u-ds-2/lib/python3.12/site-packages/sklearn/feature_extraction/text.py:521: UserWarning: The parameter 'token_pattern' will not be used since 'tokenizer' is not None'\n",
      "  warnings.warn(\n"
     ]
    },
    {
     "name": "stdout",
     "output_type": "stream",
     "text": [
      "[CV 1/3] END moc__estimator__learning_rate=0.1, moc__estimator__max_depth=3, moc__estimator__n_estimators=100, vect__max_df=0.9, vect__ngram_range=(1, 1);, score=0.238 total time= 4.8min\n"
     ]
    },
    {
     "name": "stderr",
     "output_type": "stream",
     "text": [
      "/Users/harryashby/anaconda3/envs/u-ds-2/lib/python3.12/site-packages/sklearn/feature_extraction/text.py:521: UserWarning: The parameter 'token_pattern' will not be used since 'tokenizer' is not None'\n",
      "  warnings.warn(\n"
     ]
    },
    {
     "name": "stdout",
     "output_type": "stream",
     "text": [
      "[CV 2/3] END moc__estimator__learning_rate=0.1, moc__estimator__max_depth=3, moc__estimator__n_estimators=100, vect__max_df=0.9, vect__ngram_range=(1, 1);, score=0.229 total time= 4.8min\n"
     ]
    },
    {
     "name": "stderr",
     "output_type": "stream",
     "text": [
      "/Users/harryashby/anaconda3/envs/u-ds-2/lib/python3.12/site-packages/sklearn/feature_extraction/text.py:521: UserWarning: The parameter 'token_pattern' will not be used since 'tokenizer' is not None'\n",
      "  warnings.warn(\n"
     ]
    },
    {
     "name": "stdout",
     "output_type": "stream",
     "text": [
      "[CV 3/3] END moc__estimator__learning_rate=0.1, moc__estimator__max_depth=3, moc__estimator__n_estimators=100, vect__max_df=0.9, vect__ngram_range=(1, 1);, score=0.236 total time= 4.8min\n"
     ]
    },
    {
     "name": "stderr",
     "output_type": "stream",
     "text": [
      "/Users/harryashby/anaconda3/envs/u-ds-2/lib/python3.12/site-packages/sklearn/feature_extraction/text.py:521: UserWarning: The parameter 'token_pattern' will not be used since 'tokenizer' is not None'\n",
      "  warnings.warn(\n"
     ]
    },
    {
     "name": "stdout",
     "output_type": "stream",
     "text": [
      "[CV 1/3] END moc__estimator__learning_rate=0.1, moc__estimator__max_depth=5, moc__estimator__n_estimators=50, vect__max_df=0.75, vect__ngram_range=(1, 1);, score=0.240 total time= 4.2min\n"
     ]
    },
    {
     "name": "stderr",
     "output_type": "stream",
     "text": [
      "/Users/harryashby/anaconda3/envs/u-ds-2/lib/python3.12/site-packages/sklearn/feature_extraction/text.py:521: UserWarning: The parameter 'token_pattern' will not be used since 'tokenizer' is not None'\n",
      "  warnings.warn(\n"
     ]
    },
    {
     "name": "stdout",
     "output_type": "stream",
     "text": [
      "[CV 2/3] END moc__estimator__learning_rate=0.1, moc__estimator__max_depth=5, moc__estimator__n_estimators=50, vect__max_df=0.75, vect__ngram_range=(1, 1);, score=0.224 total time= 4.2min\n"
     ]
    },
    {
     "name": "stderr",
     "output_type": "stream",
     "text": [
      "/Users/harryashby/anaconda3/envs/u-ds-2/lib/python3.12/site-packages/sklearn/feature_extraction/text.py:521: UserWarning: The parameter 'token_pattern' will not be used since 'tokenizer' is not None'\n",
      "  warnings.warn(\n"
     ]
    },
    {
     "name": "stdout",
     "output_type": "stream",
     "text": [
      "[CV 3/3] END moc__estimator__learning_rate=0.1, moc__estimator__max_depth=3, moc__estimator__n_estimators=100, vect__max_df=0.75, vect__ngram_range=(1, 2);, score=0.233 total time=14.8min\n"
     ]
    },
    {
     "name": "stderr",
     "output_type": "stream",
     "text": [
      "/Users/harryashby/anaconda3/envs/u-ds-2/lib/python3.12/site-packages/sklearn/feature_extraction/text.py:521: UserWarning: The parameter 'token_pattern' will not be used since 'tokenizer' is not None'\n",
      "  warnings.warn(\n"
     ]
    },
    {
     "name": "stdout",
     "output_type": "stream",
     "text": [
      "[CV 1/3] END moc__estimator__learning_rate=0.1, moc__estimator__max_depth=3, moc__estimator__n_estimators=100, vect__max_df=0.75, vect__ngram_range=(1, 2);, score=0.233 total time=14.8min\n"
     ]
    },
    {
     "name": "stderr",
     "output_type": "stream",
     "text": [
      "/Users/harryashby/anaconda3/envs/u-ds-2/lib/python3.12/site-packages/sklearn/feature_extraction/text.py:521: UserWarning: The parameter 'token_pattern' will not be used since 'tokenizer' is not None'\n",
      "  warnings.warn(\n"
     ]
    },
    {
     "name": "stdout",
     "output_type": "stream",
     "text": [
      "[CV 2/3] END moc__estimator__learning_rate=0.1, moc__estimator__max_depth=3, moc__estimator__n_estimators=100, vect__max_df=0.75, vect__ngram_range=(1, 2);, score=0.232 total time=14.9min\n"
     ]
    },
    {
     "name": "stderr",
     "output_type": "stream",
     "text": [
      "/Users/harryashby/anaconda3/envs/u-ds-2/lib/python3.12/site-packages/sklearn/feature_extraction/text.py:521: UserWarning: The parameter 'token_pattern' will not be used since 'tokenizer' is not None'\n",
      "  warnings.warn(\n"
     ]
    },
    {
     "name": "stdout",
     "output_type": "stream",
     "text": [
      "[CV 3/3] END moc__estimator__learning_rate=0.1, moc__estimator__max_depth=5, moc__estimator__n_estimators=50, vect__max_df=0.75, vect__ngram_range=(1, 1);, score=0.232 total time= 4.3min\n"
     ]
    },
    {
     "name": "stderr",
     "output_type": "stream",
     "text": [
      "/Users/harryashby/anaconda3/envs/u-ds-2/lib/python3.12/site-packages/sklearn/feature_extraction/text.py:521: UserWarning: The parameter 'token_pattern' will not be used since 'tokenizer' is not None'\n",
      "  warnings.warn(\n"
     ]
    },
    {
     "name": "stdout",
     "output_type": "stream",
     "text": [
      "[CV 1/3] END moc__estimator__learning_rate=0.1, moc__estimator__max_depth=3, moc__estimator__n_estimators=100, vect__max_df=0.9, vect__ngram_range=(1, 2);, score=0.232 total time=15.1min\n"
     ]
    },
    {
     "name": "stderr",
     "output_type": "stream",
     "text": [
      "/Users/harryashby/anaconda3/envs/u-ds-2/lib/python3.12/site-packages/sklearn/feature_extraction/text.py:521: UserWarning: The parameter 'token_pattern' will not be used since 'tokenizer' is not None'\n",
      "  warnings.warn(\n"
     ]
    },
    {
     "name": "stdout",
     "output_type": "stream",
     "text": [
      "[CV 1/3] END moc__estimator__learning_rate=0.1, moc__estimator__max_depth=5, moc__estimator__n_estimators=50, vect__max_df=0.9, vect__ngram_range=(1, 1);, score=0.235 total time= 4.3min\n"
     ]
    },
    {
     "name": "stderr",
     "output_type": "stream",
     "text": [
      "/Users/harryashby/anaconda3/envs/u-ds-2/lib/python3.12/site-packages/sklearn/feature_extraction/text.py:521: UserWarning: The parameter 'token_pattern' will not be used since 'tokenizer' is not None'\n",
      "  warnings.warn(\n"
     ]
    },
    {
     "name": "stdout",
     "output_type": "stream",
     "text": [
      "[CV 2/3] END moc__estimator__learning_rate=0.1, moc__estimator__max_depth=5, moc__estimator__n_estimators=50, vect__max_df=0.9, vect__ngram_range=(1, 1);, score=0.222 total time= 4.3min\n"
     ]
    },
    {
     "name": "stderr",
     "output_type": "stream",
     "text": [
      "/Users/harryashby/anaconda3/envs/u-ds-2/lib/python3.12/site-packages/sklearn/feature_extraction/text.py:521: UserWarning: The parameter 'token_pattern' will not be used since 'tokenizer' is not None'\n",
      "  warnings.warn(\n"
     ]
    },
    {
     "name": "stdout",
     "output_type": "stream",
     "text": [
      "[CV 2/3] END moc__estimator__learning_rate=0.1, moc__estimator__max_depth=3, moc__estimator__n_estimators=100, vect__max_df=0.9, vect__ngram_range=(1, 2);, score=0.233 total time=15.4min\n"
     ]
    },
    {
     "name": "stderr",
     "output_type": "stream",
     "text": [
      "/Users/harryashby/anaconda3/envs/u-ds-2/lib/python3.12/site-packages/sklearn/feature_extraction/text.py:521: UserWarning: The parameter 'token_pattern' will not be used since 'tokenizer' is not None'\n",
      "  warnings.warn(\n"
     ]
    },
    {
     "name": "stdout",
     "output_type": "stream",
     "text": [
      "[CV 3/3] END moc__estimator__learning_rate=0.1, moc__estimator__max_depth=5, moc__estimator__n_estimators=50, vect__max_df=0.9, vect__ngram_range=(1, 1);, score=0.232 total time= 4.2min\n"
     ]
    },
    {
     "name": "stderr",
     "output_type": "stream",
     "text": [
      "/Users/harryashby/anaconda3/envs/u-ds-2/lib/python3.12/site-packages/sklearn/feature_extraction/text.py:521: UserWarning: The parameter 'token_pattern' will not be used since 'tokenizer' is not None'\n",
      "  warnings.warn(\n"
     ]
    },
    {
     "name": "stdout",
     "output_type": "stream",
     "text": [
      "[CV 3/3] END moc__estimator__learning_rate=0.1, moc__estimator__max_depth=3, moc__estimator__n_estimators=100, vect__max_df=0.9, vect__ngram_range=(1, 2);, score=0.233 total time=15.2min\n"
     ]
    },
    {
     "name": "stderr",
     "output_type": "stream",
     "text": [
      "/Users/harryashby/anaconda3/envs/u-ds-2/lib/python3.12/site-packages/sklearn/feature_extraction/text.py:521: UserWarning: The parameter 'token_pattern' will not be used since 'tokenizer' is not None'\n",
      "  warnings.warn(\n"
     ]
    },
    {
     "name": "stdout",
     "output_type": "stream",
     "text": [
      "[CV 1/3] END moc__estimator__learning_rate=0.1, moc__estimator__max_depth=5, moc__estimator__n_estimators=50, vect__max_df=0.75, vect__ngram_range=(1, 2);, score=0.236 total time=13.1min\n"
     ]
    },
    {
     "name": "stderr",
     "output_type": "stream",
     "text": [
      "/Users/harryashby/anaconda3/envs/u-ds-2/lib/python3.12/site-packages/sklearn/feature_extraction/text.py:521: UserWarning: The parameter 'token_pattern' will not be used since 'tokenizer' is not None'\n",
      "  warnings.warn(\n"
     ]
    },
    {
     "name": "stdout",
     "output_type": "stream",
     "text": [
      "[CV 3/3] END moc__estimator__learning_rate=0.1, moc__estimator__max_depth=5, moc__estimator__n_estimators=50, vect__max_df=0.75, vect__ngram_range=(1, 2);, score=0.230 total time=12.6min\n"
     ]
    },
    {
     "name": "stderr",
     "output_type": "stream",
     "text": [
      "/Users/harryashby/anaconda3/envs/u-ds-2/lib/python3.12/site-packages/sklearn/feature_extraction/text.py:521: UserWarning: The parameter 'token_pattern' will not be used since 'tokenizer' is not None'\n",
      "  warnings.warn(\n"
     ]
    },
    {
     "name": "stdout",
     "output_type": "stream",
     "text": [
      "[CV 2/3] END moc__estimator__learning_rate=0.1, moc__estimator__max_depth=5, moc__estimator__n_estimators=50, vect__max_df=0.75, vect__ngram_range=(1, 2);, score=0.231 total time=12.8min\n"
     ]
    },
    {
     "name": "stderr",
     "output_type": "stream",
     "text": [
      "/Users/harryashby/anaconda3/envs/u-ds-2/lib/python3.12/site-packages/sklearn/feature_extraction/text.py:521: UserWarning: The parameter 'token_pattern' will not be used since 'tokenizer' is not None'\n",
      "  warnings.warn(\n"
     ]
    },
    {
     "name": "stdout",
     "output_type": "stream",
     "text": [
      "[CV 1/3] END moc__estimator__learning_rate=0.1, moc__estimator__max_depth=5, moc__estimator__n_estimators=100, vect__max_df=0.75, vect__ngram_range=(1, 1);, score=0.243 total time= 8.0min\n"
     ]
    },
    {
     "name": "stderr",
     "output_type": "stream",
     "text": [
      "/Users/harryashby/anaconda3/envs/u-ds-2/lib/python3.12/site-packages/sklearn/feature_extraction/text.py:521: UserWarning: The parameter 'token_pattern' will not be used since 'tokenizer' is not None'\n",
      "  warnings.warn(\n"
     ]
    },
    {
     "name": "stdout",
     "output_type": "stream",
     "text": [
      "[CV 2/3] END moc__estimator__learning_rate=0.1, moc__estimator__max_depth=5, moc__estimator__n_estimators=100, vect__max_df=0.75, vect__ngram_range=(1, 1);, score=0.234 total time= 8.1min\n"
     ]
    },
    {
     "name": "stderr",
     "output_type": "stream",
     "text": [
      "/Users/harryashby/anaconda3/envs/u-ds-2/lib/python3.12/site-packages/sklearn/feature_extraction/text.py:521: UserWarning: The parameter 'token_pattern' will not be used since 'tokenizer' is not None'\n",
      "  warnings.warn(\n"
     ]
    },
    {
     "name": "stdout",
     "output_type": "stream",
     "text": [
      "[CV 1/3] END moc__estimator__learning_rate=0.1, moc__estimator__max_depth=5, moc__estimator__n_estimators=50, vect__max_df=0.9, vect__ngram_range=(1, 2);, score=0.234 total time=12.2min\n"
     ]
    },
    {
     "name": "stderr",
     "output_type": "stream",
     "text": [
      "/Users/harryashby/anaconda3/envs/u-ds-2/lib/python3.12/site-packages/sklearn/feature_extraction/text.py:521: UserWarning: The parameter 'token_pattern' will not be used since 'tokenizer' is not None'\n",
      "  warnings.warn(\n"
     ]
    },
    {
     "name": "stdout",
     "output_type": "stream",
     "text": [
      "[CV 3/3] END moc__estimator__learning_rate=0.1, moc__estimator__max_depth=5, moc__estimator__n_estimators=50, vect__max_df=0.9, vect__ngram_range=(1, 2);, score=0.228 total time=12.1min\n"
     ]
    },
    {
     "name": "stderr",
     "output_type": "stream",
     "text": [
      "/Users/harryashby/anaconda3/envs/u-ds-2/lib/python3.12/site-packages/sklearn/feature_extraction/text.py:521: UserWarning: The parameter 'token_pattern' will not be used since 'tokenizer' is not None'\n",
      "  warnings.warn(\n"
     ]
    },
    {
     "name": "stdout",
     "output_type": "stream",
     "text": [
      "[CV 2/3] END moc__estimator__learning_rate=0.1, moc__estimator__max_depth=5, moc__estimator__n_estimators=50, vect__max_df=0.9, vect__ngram_range=(1, 2);, score=0.237 total time=12.2min\n"
     ]
    },
    {
     "name": "stderr",
     "output_type": "stream",
     "text": [
      "/Users/harryashby/anaconda3/envs/u-ds-2/lib/python3.12/site-packages/sklearn/feature_extraction/text.py:521: UserWarning: The parameter 'token_pattern' will not be used since 'tokenizer' is not None'\n",
      "  warnings.warn(\n"
     ]
    },
    {
     "name": "stdout",
     "output_type": "stream",
     "text": [
      "[CV 3/3] END moc__estimator__learning_rate=0.1, moc__estimator__max_depth=5, moc__estimator__n_estimators=100, vect__max_df=0.75, vect__ngram_range=(1, 1);, score=0.241 total time= 8.0min\n"
     ]
    },
    {
     "name": "stderr",
     "output_type": "stream",
     "text": [
      "/Users/harryashby/anaconda3/envs/u-ds-2/lib/python3.12/site-packages/sklearn/feature_extraction/text.py:521: UserWarning: The parameter 'token_pattern' will not be used since 'tokenizer' is not None'\n",
      "  warnings.warn(\n"
     ]
    },
    {
     "name": "stdout",
     "output_type": "stream",
     "text": [
      "[CV 1/3] END moc__estimator__learning_rate=0.1, moc__estimator__max_depth=5, moc__estimator__n_estimators=100, vect__max_df=0.9, vect__ngram_range=(1, 1);, score=0.246 total time= 8.0min\n"
     ]
    },
    {
     "name": "stderr",
     "output_type": "stream",
     "text": [
      "/Users/harryashby/anaconda3/envs/u-ds-2/lib/python3.12/site-packages/sklearn/feature_extraction/text.py:521: UserWarning: The parameter 'token_pattern' will not be used since 'tokenizer' is not None'\n",
      "  warnings.warn(\n"
     ]
    },
    {
     "name": "stdout",
     "output_type": "stream",
     "text": [
      "[CV 2/3] END moc__estimator__learning_rate=0.1, moc__estimator__max_depth=5, moc__estimator__n_estimators=100, vect__max_df=0.9, vect__ngram_range=(1, 1);, score=0.231 total time= 8.0min\n"
     ]
    },
    {
     "name": "stderr",
     "output_type": "stream",
     "text": [
      "/Users/harryashby/anaconda3/envs/u-ds-2/lib/python3.12/site-packages/sklearn/feature_extraction/text.py:521: UserWarning: The parameter 'token_pattern' will not be used since 'tokenizer' is not None'\n",
      "  warnings.warn(\n"
     ]
    },
    {
     "name": "stdout",
     "output_type": "stream",
     "text": [
      "[CV 3/3] END moc__estimator__learning_rate=0.1, moc__estimator__max_depth=5, moc__estimator__n_estimators=100, vect__max_df=0.9, vect__ngram_range=(1, 1);, score=0.242 total time= 8.0min\n"
     ]
    },
    {
     "name": "stderr",
     "output_type": "stream",
     "text": [
      "/Users/harryashby/anaconda3/envs/u-ds-2/lib/python3.12/site-packages/sklearn/feature_extraction/text.py:521: UserWarning: The parameter 'token_pattern' will not be used since 'tokenizer' is not None'\n",
      "  warnings.warn(\n"
     ]
    },
    {
     "name": "stdout",
     "output_type": "stream",
     "text": [
      "[CV 1/3] END moc__estimator__learning_rate=0.01, moc__estimator__max_depth=3, moc__estimator__n_estimators=50, vect__max_df=0.75, vect__ngram_range=(1, 1);, score=0.184 total time= 2.4min\n"
     ]
    },
    {
     "name": "stderr",
     "output_type": "stream",
     "text": [
      "/Users/harryashby/anaconda3/envs/u-ds-2/lib/python3.12/site-packages/sklearn/feature_extraction/text.py:521: UserWarning: The parameter 'token_pattern' will not be used since 'tokenizer' is not None'\n",
      "  warnings.warn(\n"
     ]
    },
    {
     "name": "stdout",
     "output_type": "stream",
     "text": [
      "[CV 2/3] END moc__estimator__learning_rate=0.01, moc__estimator__max_depth=3, moc__estimator__n_estimators=50, vect__max_df=0.75, vect__ngram_range=(1, 1);, score=0.171 total time= 2.5min\n"
     ]
    },
    {
     "name": "stderr",
     "output_type": "stream",
     "text": [
      "/Users/harryashby/anaconda3/envs/u-ds-2/lib/python3.12/site-packages/sklearn/feature_extraction/text.py:521: UserWarning: The parameter 'token_pattern' will not be used since 'tokenizer' is not None'\n",
      "  warnings.warn(\n"
     ]
    },
    {
     "name": "stdout",
     "output_type": "stream",
     "text": [
      "[CV 3/3] END moc__estimator__learning_rate=0.01, moc__estimator__max_depth=3, moc__estimator__n_estimators=50, vect__max_df=0.75, vect__ngram_range=(1, 1);, score=0.174 total time= 2.4min\n"
     ]
    },
    {
     "name": "stderr",
     "output_type": "stream",
     "text": [
      "/Users/harryashby/anaconda3/envs/u-ds-2/lib/python3.12/site-packages/sklearn/feature_extraction/text.py:521: UserWarning: The parameter 'token_pattern' will not be used since 'tokenizer' is not None'\n",
      "  warnings.warn(\n"
     ]
    },
    {
     "name": "stdout",
     "output_type": "stream",
     "text": [
      "[CV 1/3] END moc__estimator__learning_rate=0.01, moc__estimator__max_depth=3, moc__estimator__n_estimators=50, vect__max_df=0.75, vect__ngram_range=(1, 2);, score=0.184 total time= 7.5min\n"
     ]
    },
    {
     "name": "stderr",
     "output_type": "stream",
     "text": [
      "/Users/harryashby/anaconda3/envs/u-ds-2/lib/python3.12/site-packages/sklearn/feature_extraction/text.py:521: UserWarning: The parameter 'token_pattern' will not be used since 'tokenizer' is not None'\n",
      "  warnings.warn(\n"
     ]
    },
    {
     "name": "stdout",
     "output_type": "stream",
     "text": [
      "[CV 1/3] END moc__estimator__learning_rate=0.1, moc__estimator__max_depth=5, moc__estimator__n_estimators=100, vect__max_df=0.75, vect__ngram_range=(1, 2);, score=0.242 total time=23.9min\n"
     ]
    },
    {
     "name": "stderr",
     "output_type": "stream",
     "text": [
      "/Users/harryashby/anaconda3/envs/u-ds-2/lib/python3.12/site-packages/sklearn/feature_extraction/text.py:521: UserWarning: The parameter 'token_pattern' will not be used since 'tokenizer' is not None'\n",
      "  warnings.warn(\n"
     ]
    },
    {
     "name": "stdout",
     "output_type": "stream",
     "text": [
      "[CV 2/3] END moc__estimator__learning_rate=0.1, moc__estimator__max_depth=5, moc__estimator__n_estimators=100, vect__max_df=0.75, vect__ngram_range=(1, 2);, score=0.231 total time=24.1min\n"
     ]
    },
    {
     "name": "stderr",
     "output_type": "stream",
     "text": [
      "/Users/harryashby/anaconda3/envs/u-ds-2/lib/python3.12/site-packages/sklearn/feature_extraction/text.py:521: UserWarning: The parameter 'token_pattern' will not be used since 'tokenizer' is not None'\n",
      "  warnings.warn(\n"
     ]
    },
    {
     "name": "stdout",
     "output_type": "stream",
     "text": [
      "[CV 2/3] END moc__estimator__learning_rate=0.01, moc__estimator__max_depth=3, moc__estimator__n_estimators=50, vect__max_df=0.75, vect__ngram_range=(1, 2);, score=0.171 total time= 7.9min\n"
     ]
    },
    {
     "name": "stderr",
     "output_type": "stream",
     "text": [
      "/Users/harryashby/anaconda3/envs/u-ds-2/lib/python3.12/site-packages/sklearn/feature_extraction/text.py:521: UserWarning: The parameter 'token_pattern' will not be used since 'tokenizer' is not None'\n",
      "  warnings.warn(\n"
     ]
    },
    {
     "name": "stdout",
     "output_type": "stream",
     "text": [
      "[CV 3/3] END moc__estimator__learning_rate=0.1, moc__estimator__max_depth=5, moc__estimator__n_estimators=100, vect__max_df=0.75, vect__ngram_range=(1, 2);, score=0.236 total time=24.2min\n"
     ]
    },
    {
     "name": "stderr",
     "output_type": "stream",
     "text": [
      "/Users/harryashby/anaconda3/envs/u-ds-2/lib/python3.12/site-packages/sklearn/feature_extraction/text.py:521: UserWarning: The parameter 'token_pattern' will not be used since 'tokenizer' is not None'\n",
      "  warnings.warn(\n"
     ]
    },
    {
     "name": "stdout",
     "output_type": "stream",
     "text": [
      "[CV 1/3] END moc__estimator__learning_rate=0.01, moc__estimator__max_depth=3, moc__estimator__n_estimators=50, vect__max_df=0.9, vect__ngram_range=(1, 1);, score=0.184 total time= 2.6min\n"
     ]
    },
    {
     "name": "stderr",
     "output_type": "stream",
     "text": [
      "/Users/harryashby/anaconda3/envs/u-ds-2/lib/python3.12/site-packages/sklearn/feature_extraction/text.py:521: UserWarning: The parameter 'token_pattern' will not be used since 'tokenizer' is not None'\n",
      "  warnings.warn(\n"
     ]
    },
    {
     "name": "stdout",
     "output_type": "stream",
     "text": [
      "[CV 2/3] END moc__estimator__learning_rate=0.01, moc__estimator__max_depth=3, moc__estimator__n_estimators=50, vect__max_df=0.9, vect__ngram_range=(1, 1);, score=0.171 total time= 2.6min\n"
     ]
    },
    {
     "name": "stderr",
     "output_type": "stream",
     "text": [
      "/Users/harryashby/anaconda3/envs/u-ds-2/lib/python3.12/site-packages/sklearn/feature_extraction/text.py:521: UserWarning: The parameter 'token_pattern' will not be used since 'tokenizer' is not None'\n",
      "  warnings.warn(\n"
     ]
    },
    {
     "name": "stdout",
     "output_type": "stream",
     "text": [
      "[CV 3/3] END moc__estimator__learning_rate=0.01, moc__estimator__max_depth=3, moc__estimator__n_estimators=50, vect__max_df=0.9, vect__ngram_range=(1, 1);, score=0.174 total time= 2.6min\n"
     ]
    },
    {
     "name": "stderr",
     "output_type": "stream",
     "text": [
      "/Users/harryashby/anaconda3/envs/u-ds-2/lib/python3.12/site-packages/sklearn/feature_extraction/text.py:521: UserWarning: The parameter 'token_pattern' will not be used since 'tokenizer' is not None'\n",
      "  warnings.warn(\n"
     ]
    },
    {
     "name": "stdout",
     "output_type": "stream",
     "text": [
      "[CV 1/3] END moc__estimator__learning_rate=0.1, moc__estimator__max_depth=5, moc__estimator__n_estimators=100, vect__max_df=0.9, vect__ngram_range=(1, 2);, score=0.241 total time=24.4min\n"
     ]
    },
    {
     "name": "stderr",
     "output_type": "stream",
     "text": [
      "/Users/harryashby/anaconda3/envs/u-ds-2/lib/python3.12/site-packages/sklearn/feature_extraction/text.py:521: UserWarning: The parameter 'token_pattern' will not be used since 'tokenizer' is not None'\n",
      "  warnings.warn(\n"
     ]
    },
    {
     "name": "stdout",
     "output_type": "stream",
     "text": [
      "[CV 2/3] END moc__estimator__learning_rate=0.1, moc__estimator__max_depth=5, moc__estimator__n_estimators=100, vect__max_df=0.9, vect__ngram_range=(1, 2);, score=0.235 total time=24.7min\n"
     ]
    },
    {
     "name": "stderr",
     "output_type": "stream",
     "text": [
      "/Users/harryashby/anaconda3/envs/u-ds-2/lib/python3.12/site-packages/sklearn/feature_extraction/text.py:521: UserWarning: The parameter 'token_pattern' will not be used since 'tokenizer' is not None'\n",
      "  warnings.warn(\n"
     ]
    },
    {
     "name": "stdout",
     "output_type": "stream",
     "text": [
      "[CV 3/3] END moc__estimator__learning_rate=0.01, moc__estimator__max_depth=3, moc__estimator__n_estimators=50, vect__max_df=0.75, vect__ngram_range=(1, 2);, score=0.175 total time= 8.1min\n"
     ]
    },
    {
     "name": "stderr",
     "output_type": "stream",
     "text": [
      "/Users/harryashby/anaconda3/envs/u-ds-2/lib/python3.12/site-packages/sklearn/feature_extraction/text.py:521: UserWarning: The parameter 'token_pattern' will not be used since 'tokenizer' is not None'\n",
      "  warnings.warn(\n"
     ]
    },
    {
     "name": "stdout",
     "output_type": "stream",
     "text": [
      "[CV 1/3] END moc__estimator__learning_rate=0.01, moc__estimator__max_depth=3, moc__estimator__n_estimators=100, vect__max_df=0.75, vect__ngram_range=(1, 1);, score=0.210 total time= 5.2min\n"
     ]
    },
    {
     "name": "stderr",
     "output_type": "stream",
     "text": [
      "/Users/harryashby/anaconda3/envs/u-ds-2/lib/python3.12/site-packages/sklearn/feature_extraction/text.py:521: UserWarning: The parameter 'token_pattern' will not be used since 'tokenizer' is not None'\n",
      "  warnings.warn(\n"
     ]
    },
    {
     "name": "stdout",
     "output_type": "stream",
     "text": [
      "[CV 2/3] END moc__estimator__learning_rate=0.01, moc__estimator__max_depth=3, moc__estimator__n_estimators=100, vect__max_df=0.75, vect__ngram_range=(1, 1);, score=0.199 total time= 5.3min\n"
     ]
    },
    {
     "name": "stderr",
     "output_type": "stream",
     "text": [
      "/Users/harryashby/anaconda3/envs/u-ds-2/lib/python3.12/site-packages/sklearn/feature_extraction/text.py:521: UserWarning: The parameter 'token_pattern' will not be used since 'tokenizer' is not None'\n",
      "  warnings.warn(\n"
     ]
    },
    {
     "name": "stdout",
     "output_type": "stream",
     "text": [
      "[CV 1/3] END moc__estimator__learning_rate=0.01, moc__estimator__max_depth=3, moc__estimator__n_estimators=50, vect__max_df=0.9, vect__ngram_range=(1, 2);, score=0.184 total time= 8.2min\n"
     ]
    },
    {
     "name": "stderr",
     "output_type": "stream",
     "text": [
      "/Users/harryashby/anaconda3/envs/u-ds-2/lib/python3.12/site-packages/sklearn/feature_extraction/text.py:521: UserWarning: The parameter 'token_pattern' will not be used since 'tokenizer' is not None'\n",
      "  warnings.warn(\n"
     ]
    },
    {
     "name": "stdout",
     "output_type": "stream",
     "text": [
      "[CV 2/3] END moc__estimator__learning_rate=0.01, moc__estimator__max_depth=3, moc__estimator__n_estimators=50, vect__max_df=0.9, vect__ngram_range=(1, 2);, score=0.171 total time= 8.3min\n"
     ]
    },
    {
     "name": "stderr",
     "output_type": "stream",
     "text": [
      "/Users/harryashby/anaconda3/envs/u-ds-2/lib/python3.12/site-packages/sklearn/feature_extraction/text.py:521: UserWarning: The parameter 'token_pattern' will not be used since 'tokenizer' is not None'\n",
      "  warnings.warn(\n"
     ]
    },
    {
     "name": "stdout",
     "output_type": "stream",
     "text": [
      "[CV 3/3] END moc__estimator__learning_rate=0.01, moc__estimator__max_depth=3, moc__estimator__n_estimators=100, vect__max_df=0.75, vect__ngram_range=(1, 1);, score=0.215 total time= 5.2min\n"
     ]
    },
    {
     "name": "stderr",
     "output_type": "stream",
     "text": [
      "/Users/harryashby/anaconda3/envs/u-ds-2/lib/python3.12/site-packages/sklearn/feature_extraction/text.py:521: UserWarning: The parameter 'token_pattern' will not be used since 'tokenizer' is not None'\n",
      "  warnings.warn(\n"
     ]
    },
    {
     "name": "stdout",
     "output_type": "stream",
     "text": [
      "[CV 3/3] END moc__estimator__learning_rate=0.01, moc__estimator__max_depth=3, moc__estimator__n_estimators=50, vect__max_df=0.9, vect__ngram_range=(1, 2);, score=0.175 total time= 8.1min\n"
     ]
    },
    {
     "name": "stderr",
     "output_type": "stream",
     "text": [
      "/Users/harryashby/anaconda3/envs/u-ds-2/lib/python3.12/site-packages/sklearn/feature_extraction/text.py:521: UserWarning: The parameter 'token_pattern' will not be used since 'tokenizer' is not None'\n",
      "  warnings.warn(\n"
     ]
    },
    {
     "name": "stdout",
     "output_type": "stream",
     "text": [
      "[CV 3/3] END moc__estimator__learning_rate=0.1, moc__estimator__max_depth=5, moc__estimator__n_estimators=100, vect__max_df=0.9, vect__ngram_range=(1, 2);, score=0.238 total time=25.2min\n"
     ]
    },
    {
     "name": "stderr",
     "output_type": "stream",
     "text": [
      "/Users/harryashby/anaconda3/envs/u-ds-2/lib/python3.12/site-packages/sklearn/feature_extraction/text.py:521: UserWarning: The parameter 'token_pattern' will not be used since 'tokenizer' is not None'\n",
      "  warnings.warn(\n"
     ]
    },
    {
     "name": "stdout",
     "output_type": "stream",
     "text": [
      "[CV 1/3] END moc__estimator__learning_rate=0.01, moc__estimator__max_depth=3, moc__estimator__n_estimators=100, vect__max_df=0.9, vect__ngram_range=(1, 1);, score=0.210 total time= 5.3min\n"
     ]
    },
    {
     "name": "stderr",
     "output_type": "stream",
     "text": [
      "/Users/harryashby/anaconda3/envs/u-ds-2/lib/python3.12/site-packages/sklearn/feature_extraction/text.py:521: UserWarning: The parameter 'token_pattern' will not be used since 'tokenizer' is not None'\n",
      "  warnings.warn(\n"
     ]
    },
    {
     "name": "stdout",
     "output_type": "stream",
     "text": [
      "[CV 3/3] END moc__estimator__learning_rate=0.01, moc__estimator__max_depth=3, moc__estimator__n_estimators=100, vect__max_df=0.9, vect__ngram_range=(1, 1);, score=0.214 total time= 5.3min\n"
     ]
    },
    {
     "name": "stderr",
     "output_type": "stream",
     "text": [
      "/Users/harryashby/anaconda3/envs/u-ds-2/lib/python3.12/site-packages/sklearn/feature_extraction/text.py:521: UserWarning: The parameter 'token_pattern' will not be used since 'tokenizer' is not None'\n",
      "  warnings.warn(\n"
     ]
    },
    {
     "name": "stdout",
     "output_type": "stream",
     "text": [
      "[CV 2/3] END moc__estimator__learning_rate=0.01, moc__estimator__max_depth=3, moc__estimator__n_estimators=100, vect__max_df=0.9, vect__ngram_range=(1, 1);, score=0.199 total time= 5.4min\n"
     ]
    },
    {
     "name": "stderr",
     "output_type": "stream",
     "text": [
      "/Users/harryashby/anaconda3/envs/u-ds-2/lib/python3.12/site-packages/sklearn/feature_extraction/text.py:521: UserWarning: The parameter 'token_pattern' will not be used since 'tokenizer' is not None'\n",
      "  warnings.warn(\n"
     ]
    },
    {
     "name": "stdout",
     "output_type": "stream",
     "text": [
      "[CV 1/3] END moc__estimator__learning_rate=0.01, moc__estimator__max_depth=5, moc__estimator__n_estimators=50, vect__max_df=0.75, vect__ngram_range=(1, 1);, score=0.182 total time= 4.5min\n"
     ]
    },
    {
     "name": "stderr",
     "output_type": "stream",
     "text": [
      "/Users/harryashby/anaconda3/envs/u-ds-2/lib/python3.12/site-packages/sklearn/feature_extraction/text.py:521: UserWarning: The parameter 'token_pattern' will not be used since 'tokenizer' is not None'\n",
      "  warnings.warn(\n"
     ]
    },
    {
     "name": "stdout",
     "output_type": "stream",
     "text": [
      "[CV 2/3] END moc__estimator__learning_rate=0.01, moc__estimator__max_depth=5, moc__estimator__n_estimators=50, vect__max_df=0.75, vect__ngram_range=(1, 1);, score=0.168 total time= 4.5min\n"
     ]
    },
    {
     "name": "stderr",
     "output_type": "stream",
     "text": [
      "/Users/harryashby/anaconda3/envs/u-ds-2/lib/python3.12/site-packages/sklearn/feature_extraction/text.py:521: UserWarning: The parameter 'token_pattern' will not be used since 'tokenizer' is not None'\n",
      "  warnings.warn(\n"
     ]
    },
    {
     "name": "stdout",
     "output_type": "stream",
     "text": [
      "[CV 1/3] END moc__estimator__learning_rate=0.01, moc__estimator__max_depth=3, moc__estimator__n_estimators=100, vect__max_df=0.75, vect__ngram_range=(1, 2);, score=0.211 total time=16.3min\n"
     ]
    },
    {
     "name": "stderr",
     "output_type": "stream",
     "text": [
      "/Users/harryashby/anaconda3/envs/u-ds-2/lib/python3.12/site-packages/sklearn/feature_extraction/text.py:521: UserWarning: The parameter 'token_pattern' will not be used since 'tokenizer' is not None'\n",
      "  warnings.warn(\n"
     ]
    },
    {
     "name": "stdout",
     "output_type": "stream",
     "text": [
      "[CV 2/3] END moc__estimator__learning_rate=0.01, moc__estimator__max_depth=3, moc__estimator__n_estimators=100, vect__max_df=0.75, vect__ngram_range=(1, 2);, score=0.202 total time=16.3min\n"
     ]
    },
    {
     "name": "stderr",
     "output_type": "stream",
     "text": [
      "/Users/harryashby/anaconda3/envs/u-ds-2/lib/python3.12/site-packages/sklearn/feature_extraction/text.py:521: UserWarning: The parameter 'token_pattern' will not be used since 'tokenizer' is not None'\n",
      "  warnings.warn(\n"
     ]
    },
    {
     "name": "stdout",
     "output_type": "stream",
     "text": [
      "[CV 3/3] END moc__estimator__learning_rate=0.01, moc__estimator__max_depth=5, moc__estimator__n_estimators=50, vect__max_df=0.75, vect__ngram_range=(1, 1);, score=0.175 total time= 4.2min\n"
     ]
    },
    {
     "name": "stderr",
     "output_type": "stream",
     "text": [
      "/Users/harryashby/anaconda3/envs/u-ds-2/lib/python3.12/site-packages/sklearn/feature_extraction/text.py:521: UserWarning: The parameter 'token_pattern' will not be used since 'tokenizer' is not None'\n",
      "  warnings.warn(\n"
     ]
    },
    {
     "name": "stdout",
     "output_type": "stream",
     "text": [
      "[CV 3/3] END moc__estimator__learning_rate=0.01, moc__estimator__max_depth=3, moc__estimator__n_estimators=100, vect__max_df=0.75, vect__ngram_range=(1, 2);, score=0.218 total time=15.8min\n"
     ]
    },
    {
     "name": "stderr",
     "output_type": "stream",
     "text": [
      "/Users/harryashby/anaconda3/envs/u-ds-2/lib/python3.12/site-packages/sklearn/feature_extraction/text.py:521: UserWarning: The parameter 'token_pattern' will not be used since 'tokenizer' is not None'\n",
      "  warnings.warn(\n"
     ]
    },
    {
     "name": "stdout",
     "output_type": "stream",
     "text": [
      "[CV 1/3] END moc__estimator__learning_rate=0.01, moc__estimator__max_depth=3, moc__estimator__n_estimators=100, vect__max_df=0.9, vect__ngram_range=(1, 2);, score=0.212 total time=15.9min\n"
     ]
    },
    {
     "name": "stderr",
     "output_type": "stream",
     "text": [
      "/Users/harryashby/anaconda3/envs/u-ds-2/lib/python3.12/site-packages/sklearn/feature_extraction/text.py:521: UserWarning: The parameter 'token_pattern' will not be used since 'tokenizer' is not None'\n",
      "  warnings.warn(\n"
     ]
    },
    {
     "name": "stdout",
     "output_type": "stream",
     "text": [
      "[CV 2/3] END moc__estimator__learning_rate=0.01, moc__estimator__max_depth=3, moc__estimator__n_estimators=100, vect__max_df=0.9, vect__ngram_range=(1, 2);, score=0.202 total time=15.9min\n"
     ]
    },
    {
     "name": "stderr",
     "output_type": "stream",
     "text": [
      "/Users/harryashby/anaconda3/envs/u-ds-2/lib/python3.12/site-packages/sklearn/feature_extraction/text.py:521: UserWarning: The parameter 'token_pattern' will not be used since 'tokenizer' is not None'\n",
      "  warnings.warn(\n"
     ]
    },
    {
     "name": "stdout",
     "output_type": "stream",
     "text": [
      "[CV 1/3] END moc__estimator__learning_rate=0.01, moc__estimator__max_depth=5, moc__estimator__n_estimators=50, vect__max_df=0.9, vect__ngram_range=(1, 1);, score=0.182 total time= 4.2min\n"
     ]
    },
    {
     "name": "stderr",
     "output_type": "stream",
     "text": [
      "/Users/harryashby/anaconda3/envs/u-ds-2/lib/python3.12/site-packages/sklearn/feature_extraction/text.py:521: UserWarning: The parameter 'token_pattern' will not be used since 'tokenizer' is not None'\n",
      "  warnings.warn(\n"
     ]
    },
    {
     "name": "stdout",
     "output_type": "stream",
     "text": [
      "[CV 2/3] END moc__estimator__learning_rate=0.01, moc__estimator__max_depth=5, moc__estimator__n_estimators=50, vect__max_df=0.9, vect__ngram_range=(1, 1);, score=0.168 total time= 4.3min\n"
     ]
    },
    {
     "name": "stderr",
     "output_type": "stream",
     "text": [
      "/Users/harryashby/anaconda3/envs/u-ds-2/lib/python3.12/site-packages/sklearn/feature_extraction/text.py:521: UserWarning: The parameter 'token_pattern' will not be used since 'tokenizer' is not None'\n",
      "  warnings.warn(\n"
     ]
    },
    {
     "name": "stdout",
     "output_type": "stream",
     "text": [
      "[CV 3/3] END moc__estimator__learning_rate=0.01, moc__estimator__max_depth=5, moc__estimator__n_estimators=50, vect__max_df=0.9, vect__ngram_range=(1, 1);, score=0.175 total time= 4.2min\n"
     ]
    },
    {
     "name": "stderr",
     "output_type": "stream",
     "text": [
      "/Users/harryashby/anaconda3/envs/u-ds-2/lib/python3.12/site-packages/sklearn/feature_extraction/text.py:521: UserWarning: The parameter 'token_pattern' will not be used since 'tokenizer' is not None'\n",
      "  warnings.warn(\n"
     ]
    },
    {
     "name": "stdout",
     "output_type": "stream",
     "text": [
      "[CV 3/3] END moc__estimator__learning_rate=0.01, moc__estimator__max_depth=3, moc__estimator__n_estimators=100, vect__max_df=0.9, vect__ngram_range=(1, 2);, score=0.217 total time=15.2min\n"
     ]
    },
    {
     "name": "stderr",
     "output_type": "stream",
     "text": [
      "/Users/harryashby/anaconda3/envs/u-ds-2/lib/python3.12/site-packages/sklearn/feature_extraction/text.py:521: UserWarning: The parameter 'token_pattern' will not be used since 'tokenizer' is not None'\n",
      "  warnings.warn(\n"
     ]
    },
    {
     "name": "stdout",
     "output_type": "stream",
     "text": [
      "[CV 1/3] END moc__estimator__learning_rate=0.01, moc__estimator__max_depth=5, moc__estimator__n_estimators=50, vect__max_df=0.75, vect__ngram_range=(1, 2);, score=0.181 total time=13.1min\n"
     ]
    },
    {
     "name": "stderr",
     "output_type": "stream",
     "text": [
      "/Users/harryashby/anaconda3/envs/u-ds-2/lib/python3.12/site-packages/sklearn/feature_extraction/text.py:521: UserWarning: The parameter 'token_pattern' will not be used since 'tokenizer' is not None'\n",
      "  warnings.warn(\n"
     ]
    },
    {
     "name": "stdout",
     "output_type": "stream",
     "text": [
      "[CV 2/3] END moc__estimator__learning_rate=0.01, moc__estimator__max_depth=5, moc__estimator__n_estimators=50, vect__max_df=0.75, vect__ngram_range=(1, 2);, score=0.170 total time=13.1min\n"
     ]
    },
    {
     "name": "stderr",
     "output_type": "stream",
     "text": [
      "/Users/harryashby/anaconda3/envs/u-ds-2/lib/python3.12/site-packages/sklearn/feature_extraction/text.py:521: UserWarning: The parameter 'token_pattern' will not be used since 'tokenizer' is not None'\n",
      "  warnings.warn(\n"
     ]
    },
    {
     "name": "stdout",
     "output_type": "stream",
     "text": [
      "[CV 3/3] END moc__estimator__learning_rate=0.01, moc__estimator__max_depth=5, moc__estimator__n_estimators=50, vect__max_df=0.75, vect__ngram_range=(1, 2);, score=0.176 total time=12.9min\n"
     ]
    },
    {
     "name": "stderr",
     "output_type": "stream",
     "text": [
      "/Users/harryashby/anaconda3/envs/u-ds-2/lib/python3.12/site-packages/sklearn/feature_extraction/text.py:521: UserWarning: The parameter 'token_pattern' will not be used since 'tokenizer' is not None'\n",
      "  warnings.warn(\n"
     ]
    },
    {
     "name": "stdout",
     "output_type": "stream",
     "text": [
      "[CV 1/3] END moc__estimator__learning_rate=0.01, moc__estimator__max_depth=5, moc__estimator__n_estimators=100, vect__max_df=0.75, vect__ngram_range=(1, 1);, score=0.222 total time= 8.3min\n"
     ]
    },
    {
     "name": "stderr",
     "output_type": "stream",
     "text": [
      "/Users/harryashby/anaconda3/envs/u-ds-2/lib/python3.12/site-packages/sklearn/feature_extraction/text.py:521: UserWarning: The parameter 'token_pattern' will not be used since 'tokenizer' is not None'\n",
      "  warnings.warn(\n"
     ]
    },
    {
     "name": "stdout",
     "output_type": "stream",
     "text": [
      "[CV 2/3] END moc__estimator__learning_rate=0.01, moc__estimator__max_depth=5, moc__estimator__n_estimators=100, vect__max_df=0.75, vect__ngram_range=(1, 1);, score=0.219 total time= 8.4min\n"
     ]
    },
    {
     "name": "stderr",
     "output_type": "stream",
     "text": [
      "/Users/harryashby/anaconda3/envs/u-ds-2/lib/python3.12/site-packages/sklearn/feature_extraction/text.py:521: UserWarning: The parameter 'token_pattern' will not be used since 'tokenizer' is not None'\n",
      "  warnings.warn(\n"
     ]
    },
    {
     "name": "stdout",
     "output_type": "stream",
     "text": [
      "[CV 1/3] END moc__estimator__learning_rate=0.01, moc__estimator__max_depth=5, moc__estimator__n_estimators=50, vect__max_df=0.9, vect__ngram_range=(1, 2);, score=0.180 total time=13.0min\n"
     ]
    },
    {
     "name": "stderr",
     "output_type": "stream",
     "text": [
      "/Users/harryashby/anaconda3/envs/u-ds-2/lib/python3.12/site-packages/sklearn/feature_extraction/text.py:521: UserWarning: The parameter 'token_pattern' will not be used since 'tokenizer' is not None'\n",
      "  warnings.warn(\n"
     ]
    },
    {
     "name": "stdout",
     "output_type": "stream",
     "text": [
      "[CV 2/3] END moc__estimator__learning_rate=0.01, moc__estimator__max_depth=5, moc__estimator__n_estimators=50, vect__max_df=0.9, vect__ngram_range=(1, 2);, score=0.170 total time=13.1min\n"
     ]
    },
    {
     "name": "stderr",
     "output_type": "stream",
     "text": [
      "/Users/harryashby/anaconda3/envs/u-ds-2/lib/python3.12/site-packages/sklearn/feature_extraction/text.py:521: UserWarning: The parameter 'token_pattern' will not be used since 'tokenizer' is not None'\n",
      "  warnings.warn(\n"
     ]
    },
    {
     "name": "stdout",
     "output_type": "stream",
     "text": [
      "[CV 3/3] END moc__estimator__learning_rate=0.01, moc__estimator__max_depth=5, moc__estimator__n_estimators=100, vect__max_df=0.75, vect__ngram_range=(1, 1);, score=0.225 total time= 8.4min\n"
     ]
    },
    {
     "name": "stderr",
     "output_type": "stream",
     "text": [
      "/Users/harryashby/anaconda3/envs/u-ds-2/lib/python3.12/site-packages/sklearn/feature_extraction/text.py:521: UserWarning: The parameter 'token_pattern' will not be used since 'tokenizer' is not None'\n",
      "  warnings.warn(\n"
     ]
    },
    {
     "name": "stdout",
     "output_type": "stream",
     "text": [
      "[CV 3/3] END moc__estimator__learning_rate=0.01, moc__estimator__max_depth=5, moc__estimator__n_estimators=50, vect__max_df=0.9, vect__ngram_range=(1, 2);, score=0.176 total time=13.0min\n"
     ]
    },
    {
     "name": "stderr",
     "output_type": "stream",
     "text": [
      "/Users/harryashby/anaconda3/envs/u-ds-2/lib/python3.12/site-packages/sklearn/feature_extraction/text.py:521: UserWarning: The parameter 'token_pattern' will not be used since 'tokenizer' is not None'\n",
      "  warnings.warn(\n"
     ]
    },
    {
     "name": "stdout",
     "output_type": "stream",
     "text": [
      "[CV 1/3] END moc__estimator__learning_rate=0.01, moc__estimator__max_depth=5, moc__estimator__n_estimators=100, vect__max_df=0.9, vect__ngram_range=(1, 1);, score=0.221 total time= 8.6min\n"
     ]
    },
    {
     "name": "stderr",
     "output_type": "stream",
     "text": [
      "/Users/harryashby/anaconda3/envs/u-ds-2/lib/python3.12/site-packages/sklearn/feature_extraction/text.py:521: UserWarning: The parameter 'token_pattern' will not be used since 'tokenizer' is not None'\n",
      "  warnings.warn(\n"
     ]
    },
    {
     "name": "stdout",
     "output_type": "stream",
     "text": [
      "[CV 2/3] END moc__estimator__learning_rate=0.01, moc__estimator__max_depth=5, moc__estimator__n_estimators=100, vect__max_df=0.9, vect__ngram_range=(1, 1);, score=0.218 total time= 8.7min\n",
      "[CV 3/3] END moc__estimator__learning_rate=0.01, moc__estimator__max_depth=5, moc__estimator__n_estimators=100, vect__max_df=0.9, vect__ngram_range=(1, 1);, score=0.225 total time= 8.6min\n",
      "[CV 1/3] END moc__estimator__learning_rate=0.01, moc__estimator__max_depth=5, moc__estimator__n_estimators=100, vect__max_df=0.75, vect__ngram_range=(1, 2);, score=0.222 total time=25.9min\n",
      "[CV 2/3] END moc__estimator__learning_rate=0.01, moc__estimator__max_depth=5, moc__estimator__n_estimators=100, vect__max_df=0.75, vect__ngram_range=(1, 2);, score=0.218 total time=26.0min\n",
      "[CV 3/3] END moc__estimator__learning_rate=0.01, moc__estimator__max_depth=5, moc__estimator__n_estimators=100, vect__max_df=0.75, vect__ngram_range=(1, 2);, score=0.222 total time=25.2min\n",
      "[CV 1/3] END moc__estimator__learning_rate=0.01, moc__estimator__max_depth=5, moc__estimator__n_estimators=100, vect__max_df=0.9, vect__ngram_range=(1, 2);, score=0.225 total time=24.0min\n",
      "[CV 2/3] END moc__estimator__learning_rate=0.01, moc__estimator__max_depth=5, moc__estimator__n_estimators=100, vect__max_df=0.9, vect__ngram_range=(1, 2);, score=0.219 total time=23.4min\n",
      "[CV 3/3] END moc__estimator__learning_rate=0.01, moc__estimator__max_depth=5, moc__estimator__n_estimators=100, vect__max_df=0.9, vect__ngram_range=(1, 2);, score=0.223 total time=20.3min\n"
     ]
    },
    {
     "name": "stderr",
     "output_type": "stream",
     "text": [
      "/Users/harryashby/anaconda3/envs/u-ds-2/lib/python3.12/site-packages/sklearn/feature_extraction/text.py:521: UserWarning: The parameter 'token_pattern' will not be used since 'tokenizer' is not None'\n",
      "  warnings.warn(\n"
     ]
    },
    {
     "name": "stdout",
     "output_type": "stream",
     "text": [
      "Best parameters found:  {'moc__estimator__learning_rate': 0.1, 'moc__estimator__max_depth': 5, 'moc__estimator__n_estimators': 100, 'vect__max_df': 0.9, 'vect__ngram_range': (1, 1)}\n",
      "Best cross-validation score: 0.240\n"
     ]
    }
   ],
   "source": [
    "from sklearn.model_selection import GridSearchCV\n",
    "from sklearn.ensemble import GradientBoostingClassifier\n",
    "from sklearn.multioutput import MultiOutputClassifier\n",
    "from sklearn.feature_extraction.text import CountVectorizer, TfidfTransformer\n",
    "from sklearn.pipeline import Pipeline\n",
    "\n",
    "\n",
    "# Define your pipeline\n",
    "pipeline  = Pipeline(steps=[\n",
    "    ('vect', CountVectorizer(tokenizer=tokenize)),\n",
    "    ('tfidf', TfidfTransformer()),\n",
    "    ('moc', MultiOutputClassifier(GradientBoostingClassifier()))\n",
    "])\n",
    "\n",
    "# Define a parameter grid to search over\n",
    "param_grid = {\n",
    "    # Parameters for CountVectorizer\n",
    "    'vect__max_df': [0.75, 0.9],  # Ignore words that appear in more than 75% or 100% of documents\n",
    "    'vect__ngram_range': [(1, 1), (1, 2)],  # Use unigrams and bigrams\n",
    "    \n",
    "    # Parameters for GradientBoostingClassifier inside MultiOutputClassifier\n",
    "    'moc__estimator__n_estimators': [50, 100],  # Number of boosting stages\n",
    "    'moc__estimator__learning_rate': [0.1, 0.01],  # Learning rate for boosting\n",
    "    'moc__estimator__max_depth': [3, 5],  # Maximum depth of trees\n",
    "}\n",
    "\n",
    "# Set up GridSearchCV\n",
    "grid_search = GridSearchCV(pipeline, param_grid, cv=3, verbose=3, n_jobs=-1)\n",
    "\n",
    "# Fit grid search on training data\n",
    "grid_search.fit(X_train, y_train)\n",
    "\n",
    "# Get the best parameters and the best score\n",
    "print(\"Best parameters found: \", grid_search.best_params_)\n",
    "print(\"Best cross-validation score: {:.3f}\".format(grid_search.best_score_))\n",
    "\n",
    "# Use the best model to predict on test data\n",
    "best_model = grid_search.best_estimator_\n",
    "y_pred = best_model.predict(X_test)"
   ]
  },
  {
   "cell_type": "code",
   "execution_count": 65,
   "metadata": {},
   "outputs": [],
   "source": [
    "import pickle    \n",
    "pickle.dump(best_model, open('bm.pkl', 'wb'))"
   ]
  },
  {
   "cell_type": "code",
   "execution_count": 38,
   "metadata": {},
   "outputs": [
    {
     "data": {
      "text/html": [
       "<div>\n",
       "<style scoped>\n",
       "    .dataframe tbody tr th:only-of-type {\n",
       "        vertical-align: middle;\n",
       "    }\n",
       "\n",
       "    .dataframe tbody tr th {\n",
       "        vertical-align: top;\n",
       "    }\n",
       "\n",
       "    .dataframe thead th {\n",
       "        text-align: right;\n",
       "    }\n",
       "</style>\n",
       "<table border=\"1\" class=\"dataframe\">\n",
       "  <thead>\n",
       "    <tr style=\"text-align: right;\">\n",
       "      <th></th>\n",
       "      <th>child_alone</th>\n",
       "    </tr>\n",
       "  </thead>\n",
       "  <tbody>\n",
       "    <tr>\n",
       "      <th>18911</th>\n",
       "      <td>0</td>\n",
       "    </tr>\n",
       "    <tr>\n",
       "      <th>11376</th>\n",
       "      <td>0</td>\n",
       "    </tr>\n",
       "    <tr>\n",
       "      <th>17973</th>\n",
       "      <td>0</td>\n",
       "    </tr>\n",
       "    <tr>\n",
       "      <th>25207</th>\n",
       "      <td>0</td>\n",
       "    </tr>\n",
       "    <tr>\n",
       "      <th>7485</th>\n",
       "      <td>0</td>\n",
       "    </tr>\n",
       "    <tr>\n",
       "      <th>...</th>\n",
       "      <td>...</td>\n",
       "    </tr>\n",
       "    <tr>\n",
       "      <th>15193</th>\n",
       "      <td>0</td>\n",
       "    </tr>\n",
       "    <tr>\n",
       "      <th>19628</th>\n",
       "      <td>0</td>\n",
       "    </tr>\n",
       "    <tr>\n",
       "      <th>12584</th>\n",
       "      <td>0</td>\n",
       "    </tr>\n",
       "    <tr>\n",
       "      <th>5796</th>\n",
       "      <td>0</td>\n",
       "    </tr>\n",
       "    <tr>\n",
       "      <th>13412</th>\n",
       "      <td>0</td>\n",
       "    </tr>\n",
       "  </tbody>\n",
       "</table>\n",
       "<p>19662 rows × 1 columns</p>\n",
       "</div>"
      ],
      "text/plain": [
       "       child_alone\n",
       "18911            0\n",
       "11376            0\n",
       "17973            0\n",
       "25207            0\n",
       "7485             0\n",
       "...            ...\n",
       "15193            0\n",
       "19628            0\n",
       "12584            0\n",
       "5796             0\n",
       "13412            0\n",
       "\n",
       "[19662 rows x 1 columns]"
      ]
     },
     "execution_count": 38,
     "metadata": {},
     "output_type": "execute_result"
    }
   ],
   "source": [
    "y_train.loc[:,(y_train.sum() ==0).to_list()]"
   ]
  },
  {
   "cell_type": "markdown",
   "metadata": {},
   "source": [
    "### 4. Train pipeline\n",
    "- Split data into train and test sets\n",
    "- Train pipeline"
   ]
  },
  {
   "cell_type": "code",
   "execution_count": null,
   "metadata": {},
   "outputs": [],
   "source": []
  },
  {
   "cell_type": "markdown",
   "metadata": {},
   "source": [
    "### 5. Test your model\n",
    "Report the f1 score, precision and recall for each output category of the dataset. You can do this by iterating through the columns and calling sklearn's `classification_report` on each."
   ]
  },
  {
   "cell_type": "code",
   "execution_count": 66,
   "metadata": {},
   "outputs": [
    {
     "data": {
      "text/plain": [
       "{'average_precision': 0.9386807629716255,\n",
       " 'average_recall': 0.9449540084572127,\n",
       " 'average_f1': 0.9381061439179247,\n",
       " 'average_accuracy': 0.9449540084572127}"
      ]
     },
     "execution_count": 66,
     "metadata": {},
     "output_type": "execute_result"
    }
   ],
   "source": [
    "from sklearn.metrics import precision_score, recall_score, f1_score, accuracy_score\n",
    "\n",
    "def evaluate_multi_output(y_test, y_pred):\n",
    "    \"\"\"\n",
    "    Evaluates a multi-output classifier using precision, recall, f1, and accuracy metrics.\n",
    "    \n",
    "    Parameters:\n",
    "    y_test (array-like): True labels, shape (n_samples, n_outputs)\n",
    "    y_pred (array-like): Predicted labels, shape (n_samples, n_outputs)\n",
    "    \n",
    "    Returns:\n",
    "    dict: A dictionary with average precision, recall, f1, and accuracy across all outputs.\n",
    "    \"\"\"\n",
    "    # Initialize lists to store scores for each output\n",
    "    precision_list = []\n",
    "    recall_list = []\n",
    "    f1_list = []\n",
    "    accuracy_list = []\n",
    "\n",
    "    # Iterate over each output (column in y_test and y_pred)\n",
    "    for i in range(y_test.shape[1]):\n",
    "        # For each output label, compute precision, recall, f1, and accuracy\n",
    "        precision = precision_score(y_test[:, i], y_pred[:, i], average='weighted', zero_division=0)\n",
    "        recall = recall_score(y_test[:, i], y_pred[:, i], average='weighted', zero_division=0)\n",
    "        f1 = f1_score(y_test[:, i], y_pred[:, i], average='weighted', zero_division=0)\n",
    "        accuracy = accuracy_score(y_test[:, i], y_pred[:, i])\n",
    "        \n",
    "        # Append to respective lists\n",
    "        precision_list.append(precision)\n",
    "        recall_list.append(recall)\n",
    "        f1_list.append(f1)\n",
    "        accuracy_list.append(accuracy)\n",
    "\n",
    "    # Calculate average scores across all outputs\n",
    "    average_precision = sum(precision_list) / len(precision_list)\n",
    "    average_recall = sum(recall_list) / len(recall_list)\n",
    "    average_f1 = sum(f1_list) / len(f1_list)\n",
    "    average_accuracy = sum(accuracy_list) / len(accuracy_list)\n",
    "\n",
    "    # Return results as a dictionary\n",
    "    return {\n",
    "        'average_precision': average_precision,\n",
    "        'average_recall': average_recall,\n",
    "        'average_f1': average_f1,\n",
    "        'average_accuracy': average_accuracy\n",
    "    }\n",
    "\n",
    "\n",
    "evaluate_multi_output(y_test.to_numpy(), y_pred)\n"
   ]
  },
  {
   "cell_type": "markdown",
   "metadata": {},
   "source": [
    "### 6. Improve your model\n",
    "Use grid search to find better parameters. "
   ]
  },
  {
   "cell_type": "code",
   "execution_count": null,
   "metadata": {},
   "outputs": [],
   "source": [
    "parameters = \n",
    "\n",
    "cv = "
   ]
  },
  {
   "cell_type": "markdown",
   "metadata": {},
   "source": [
    "### 7. Test your model\n",
    "Show the accuracy, precision, and recall of the tuned model.  \n",
    "\n",
    "Since this project focuses on code quality, process, and  pipelines, there is no minimum performance metric needed to pass. However, make sure to fine tune your models for accuracy, precision and recall to make your project stand out - especially for your portfolio!"
   ]
  },
  {
   "cell_type": "code",
   "execution_count": null,
   "metadata": {},
   "outputs": [],
   "source": []
  },
  {
   "cell_type": "markdown",
   "metadata": {},
   "source": [
    "### 8. Try improving your model further. Here are a few ideas:\n",
    "* try other machine learning algorithms\n",
    "* add other features besides the TF-IDF"
   ]
  },
  {
   "cell_type": "code",
   "execution_count": null,
   "metadata": {},
   "outputs": [],
   "source": []
  },
  {
   "cell_type": "markdown",
   "metadata": {},
   "source": [
    "### 9. Export your model as a pickle file"
   ]
  },
  {
   "cell_type": "code",
   "execution_count": null,
   "metadata": {},
   "outputs": [],
   "source": []
  },
  {
   "cell_type": "markdown",
   "metadata": {},
   "source": [
    "### 10. Use this notebook to complete `train_classifier.py`\n",
    "Use the template file attached in the Resources folder to write a script that runs the steps above to create a database and export a model based on a new dataset specified by the user."
   ]
  },
  {
   "cell_type": "code",
   "execution_count": null,
   "metadata": {},
   "outputs": [],
   "source": []
  }
 ],
 "metadata": {
  "kernelspec": {
   "display_name": "u-ds-2",
   "language": "python",
   "name": "python3"
  },
  "language_info": {
   "codemirror_mode": {
    "name": "ipython",
    "version": 3
   },
   "file_extension": ".py",
   "mimetype": "text/x-python",
   "name": "python",
   "nbconvert_exporter": "python",
   "pygments_lexer": "ipython3",
   "version": "3.12.7"
  }
 },
 "nbformat": 4,
 "nbformat_minor": 2
}
